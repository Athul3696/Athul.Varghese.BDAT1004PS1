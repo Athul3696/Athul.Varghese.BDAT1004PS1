{
 "cells": [
  {
   "cell_type": "markdown",
   "id": "d7f07fac",
   "metadata": {},
   "source": [
    "# Question 3 C#\n",
    "Implement function triangleArea(a,b,c) that takes as input the lengths of the 3\n",
    "sides of a triangle and returns the area of the triangle. By Heron's formula, the area \n",
    "of a triangle with side lengths a, b, and c is\n",
    "s(s - a)(s -b)(s -c)\n",
    ", where \n",
    "s = (a+b+c)/2. \n",
    ">>> triangleArea(2,2,2)\n",
    "1.7320508075688772\n"
   ]
  },
  {
   "cell_type": "code",
   "execution_count": 1,
   "id": "fff5e513",
   "metadata": {},
   "outputs": [
    {
     "ename": "Unhandled Exception",
     "evalue": "(14,1): error CS1529: A using clause must precede all other elements defined in the namespace except extern alias declarations\r\n(15,1): error CS1529: A using clause must precede all other elements defined in the namespace except extern alias declarations\r\n(16,1): error CS1529: A using clause must precede all other elements defined in the namespace except extern alias declarations\r\n(17,1): error CS1529: A using clause must precede all other elements defined in the namespace except extern alias declarations\r\n(18,1): error CS1529: A using clause must precede all other elements defined in the namespace except extern alias declarations\r\n(20,1): error CS7021: Cannot declare namespace in script code",
     "output_type": "error",
     "traceback": [
      "(14,1): error CS1529: A using clause must precede all other elements defined in the namespace except extern alias declarations\r\n(15,1): error CS1529: A using clause must precede all other elements defined in the namespace except extern alias declarations\r\n(16,1): error CS1529: A using clause must precede all other elements defined in the namespace except extern alias declarations\r\n(17,1): error CS1529: A using clause must precede all other elements defined in the namespace except extern alias declarations\r\n(18,1): error CS1529: A using clause must precede all other elements defined in the namespace except extern alias declarations\r\n(20,1): error CS7021: Cannot declare namespace in script code"
     ]
    }
   ],
   "source": [
    "using question3;\n",
    "\n",
    "Console.Write(\"Enter the length of side 1 : \");\n",
    "double side1 = Convert.ToDouble(Console.ReadLine());\n",
    "Console.Write(\"Enter the length of side 2 : \");\n",
    "double side2 = Convert.ToDouble(Console.ReadLine());\n",
    "Console.Write(\"Enter the length of side 3 : \");\n",
    "double side3 = Convert.ToDouble(Console.ReadLine());\n",
    "\n",
    "\n",
    "\n",
    "Class1 od = new Class1();\n",
    "od.triangleArea(side1, side2, side3);\n",
    "using System;\n",
    "using System.Collections.Generic;\n",
    "using System.Linq;\n",
    "using System.Text;\n",
    "using System.Threading.Tasks;\n",
    "\n",
    "namespace question3\n",
    "{\n",
    "    internal class Class1\n",
    "    {\n",
    "        public double triangleArea(double a, double b, double c)\n",
    "        {\n",
    "\n",
    "\n",
    "\n",
    "            double s = (a + b + c) / 2;\n",
    "            double Area = Math.Sqrt(s * (s - a) * (s - b) * (s - c));\n",
    "            Console.Write(\"Triangle area = \" + Area);\n",
    "            return Area;\n",
    "        }\n",
    "    }\n",
    "\n",
    "}\n",
    "\n"
   ]
  },
  {
   "cell_type": "code",
   "execution_count": null,
   "id": "033d71ba",
   "metadata": {},
   "outputs": [],
   "source": []
  }
 ],
 "metadata": {
  "kernelspec": {
   "display_name": ".NET (C#)",
   "language": "C#",
   "name": ".net-csharp"
  },
  "language_info": {
   "file_extension": ".cs",
   "mimetype": "text/x-csharp",
   "name": "C#",
   "pygments_lexer": "csharp",
   "version": "8.0"
  }
 },
 "nbformat": 4,
 "nbformat_minor": 5
}
