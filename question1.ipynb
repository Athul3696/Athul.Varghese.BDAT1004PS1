{
 "cells": [
  {
   "cell_type": "markdown",
   "id": "84b472fc",
   "metadata": {},
   "source": [
    "# Question 1 C#\n",
    "What data type is each of the following?\n"
   ]
  },
  {
   "cell_type": "code",
   "execution_count": 8,
   "id": "25978dc6",
   "metadata": {},
   "outputs": [
    {
     "name": "stdout",
     "output_type": "stream",
     "text": [
      "The datatype of 5 = System.Int32\n",
      "The datatype of 5.0 = System.Double\n",
      "The datatype of 5 > 1 = System.Boolean\n",
      "The datatype of '5' = System.Char\n",
      "The datatype of 5*2 = System.Int32\n",
      "The datatype of '5'*2 = System.Int32\n",
      "The datatype of '5'+'2' = System.Int32\n",
      "The datatype of 5/2 = System.Int32\n",
      "The datatype of 5%2 = System.Int32\n",
      "The datatype of {5,2,1} = System.ValueTuple`3[System.Int32,System.Int32,System.Int32]\n",
      "The datatype of (5==3) = System.Boolean\n",
      "The datatype of Pi = System.Double\n"
     ]
    }
   ],
   "source": [
    "var a = 5;\n",
    "Console.WriteLine(\"The datatype of 5 = \" + a.GetType());\n",
    "var b = 5.0;\n",
    "Console.WriteLine(\"The datatype of 5.0 = \" + b.GetType());\n",
    "var c = (5 > 1);\n",
    "Console.WriteLine(\"The datatype of 5 > 1 = \" + c.GetType());\n",
    "var d = '5';\n",
    "Console.WriteLine(\"The datatype of '5' = \" + d.GetType());\n",
    "var e = (5 * 2);\n",
    "Console.WriteLine(\"The datatype of 5*2 = \"+ e.GetType());\n",
    "var f = ('5' * 2);\n",
    "Console.WriteLine(\"The datatype of '5'*2 = \"+ f.GetType());\n",
    "var g = ('5' + '2');\n",
    "Console.WriteLine(\"The datatype of '5'+'2' = \"+ g.GetType());\n",
    "var h = (5 / 2);\n",
    "Console.WriteLine(\"The datatype of 5/2 = \"+ h.GetType());\n",
    "var i = (5 % 2);\n",
    "Console.WriteLine(\"The datatype of 5%2 = \"+ i.GetType());\n",
    "var j = (5,2,1);\n",
    "Console.WriteLine(\"The datatype of {5,2,1} = \"+ j.GetType());\n",
    "var k = (5 == 3);\n",
    "Console.WriteLine(\"The datatype of (5==3) = \"+ k.GetType());\n",
    "var l = Math.PI;\n",
    "Console.WriteLine(\"The datatype of Pi = \"+ l.GetType());\n",
    "\n"
   ]
  },
  {
   "cell_type": "code",
   "execution_count": null,
   "id": "89d28bd5",
   "metadata": {},
   "outputs": [],
   "source": []
  }
 ],
 "metadata": {
  "kernelspec": {
   "display_name": ".NET (C#)",
   "language": "C#",
   "name": ".net-csharp"
  },
  "language_info": {
   "file_extension": ".cs",
   "mimetype": "text/x-csharp",
   "name": "C#",
   "pygments_lexer": "csharp",
   "version": "8.0"
  }
 },
 "nbformat": 4,
 "nbformat_minor": 5
}
