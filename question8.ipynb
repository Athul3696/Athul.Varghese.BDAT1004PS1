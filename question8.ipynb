{
 "cells": [
  {
   "cell_type": "markdown",
   "id": "d0b47df8",
   "metadata": {},
   "source": [
    "# Question 8 Python\n",
    "Write a function curconv() that takes as input:\n",
    "1. a currency represented using a string (e.g., 'JPY' for the Japanese Yen or \n",
    "'EUR' for the Euro)\n",
    "2. an amount\n",
    "and then converts and returns the amount in US dollars.\n",
    ">>> curconv('EUR', 100)\n",
    "122.96544\n",
    ">>> curconv('JPY', 100)\n",
    "1.241401\n",
    "The currency rates you will need are stored in file currencies.txt:\n",
    "AUD 1.0345157 Australian Dollar\n",
    "CHF 1.0237414 Swiss Franc\n",
    "CNY 0.1550176 Chinese Yuan\n",
    "DKK 0.1651442 Danish Krone\n",
    "EUR 1.2296544 Euro\n",
    "GBP 1.5550989 British Pound\n",
    "HKD 0.1270207 Hong Kong Dollar\n",
    "INR 0.0177643 Indian Rupee\n",
    "JPY 0.01241401 Japanese Yen\n",
    "MXN 0.0751848 Mexican Peso\n",
    "MYR 0.3145411 Malaysian Ringgit\n",
    "NOK 0.1677063 Norwegian Krone\n",
    "NZD 0.8003591 New Zealand Dollar\n",
    "PHP 0.0233234 Philippine Peso\n",
    "SEK 0.148269 Swedish Krona\n",
    "SGD 0.788871 Singapore Dollar\n",
    "THB 0.0313789 Thai Baht\n",
    "\n"
   ]
  },
  {
   "cell_type": "code",
   "execution_count": 9,
   "id": "89ec4508",
   "metadata": {},
   "outputs": [
    {
     "name": "stdout",
     "output_type": "stream",
     "text": [
      "Enter the Currency Code and Amount :\n",
      "JPY,100\n",
      "\n",
      "\n",
      "The Converted Value (in USD) :\n",
      "1.241401\n"
     ]
    }
   ],
   "source": [
    "currency, amount = input(\"Enter the Currency Code and Amount :\\n\").split(\",\")\n",
    "amount = float(amount)\n",
    "table = open(\"D:\\\\georgian\\\\data programming\\\\currencies.txt\",'r')\n",
    "c_dict = {}\n",
    "for line in table.readlines():\n",
    "    elements = line.split()\n",
    "    c_dict[elements[0]] = float(elements[1])\n",
    "    def currency_convertor(curr,amt):\n",
    "        amount_usd = amt * c_dict[curr]\n",
    "        print(\"\\n\")\n",
    "        print(\"The Converted Value (in USD) :\")\n",
    "        print(amount_usd)\n",
    "currency_convertor(currency,amount)\n"
   ]
  },
  {
   "cell_type": "code",
   "execution_count": null,
   "id": "c9b6a0ab",
   "metadata": {},
   "outputs": [],
   "source": []
  }
 ],
 "metadata": {
  "kernelspec": {
   "display_name": "Python 3 (ipykernel)",
   "language": "python",
   "name": "python3"
  },
  "language_info": {
   "codemirror_mode": {
    "name": "ipython",
    "version": 3
   },
   "file_extension": ".py",
   "mimetype": "text/x-python",
   "name": "python",
   "nbconvert_exporter": "python",
   "pygments_lexer": "ipython3",
   "version": "3.9.7"
  }
 },
 "nbformat": 4,
 "nbformat_minor": 5
}
