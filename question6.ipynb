{
 "cells": [
  {
   "cell_type": "markdown",
   "id": "3cf1ca34",
   "metadata": {},
   "source": [
    "# Question 6 Python\n",
    "16. You can turn a word into pig-Latin using the following two rules (simplified):\n",
    "• If the word starts with a consonant, move that letter to the end and append \n",
    "'ay'. For example, 'happy' becomes 'appyhay' and 'pencil' becomes 'encilpay'.\n",
    "• If the word starts with a vowel, simply append 'way' to the end of the word. \n",
    "For example, 'enter' becomes 'enterway' and 'other' becomes 'otherway' . For \n",
    "our purposes, there are 5 vowels: a, e, i, o, u (so we count y as a consonant).\n",
    "Write a function pig() that takes a word (i.e., a string) as input and returns its pig\u0002Latin form. Your function should still work if the input word contains upper case \n",
    "characters. Your output should always be lower case however. \n",
    ">>> pig('happy')\n",
    "'appyhay'\n",
    ">>> pig('Enter')\n",
    "'enterway' \n"
   ]
  },
  {
   "cell_type": "code",
   "execution_count": 14,
   "id": "d3d794ff",
   "metadata": {},
   "outputs": [
    {
     "name": "stdout",
     "output_type": "stream",
     "text": [
      "Enter the word to be translated to Pig Latin :\n",
      "other\n",
      "\n",
      "\n",
      "Translated Word in Pig Latin :\n",
      "otherway\n"
     ]
    }
   ],
   "source": [
    "#Get Input from User and declaring vowels\n",
    "userinput = input(\"Enter the word to be translated to Pig Latin :\\n\")\n",
    "vowels = ['a','e','i','o','u']\n",
    "def pig(userinput):\n",
    "    word1 = userinput[0].lower() \n",
    "    if word1 in vowels:\n",
    "        userinput = Input_from_User.lower() \n",
    "        userinput += \"way\"\n",
    "        return userinput\n",
    "    else:\n",
    "        userinput = userinput.lower() \n",
    "        userinput = userinput[1:] + userinput[0] + 'ay'\n",
    "        return userinput\n",
    "print(\"\\n\")\n",
    "print(\"Translated Word in Pig Latin :\\n\"+(pig(userinput)))\n",
    "\n"
   ]
  },
  {
   "cell_type": "code",
   "execution_count": null,
   "id": "2bf6e209",
   "metadata": {},
   "outputs": [],
   "source": []
  }
 ],
 "metadata": {
  "kernelspec": {
   "display_name": "Python 3 (ipykernel)",
   "language": "python",
   "name": "python3"
  },
  "language_info": {
   "codemirror_mode": {
    "name": "ipython",
    "version": 3
   },
   "file_extension": ".py",
   "mimetype": "text/x-python",
   "name": "python",
   "nbconvert_exporter": "python",
   "pygments_lexer": "ipython3",
   "version": "3.9.7"
  }
 },
 "nbformat": 4,
 "nbformat_minor": 5
}
