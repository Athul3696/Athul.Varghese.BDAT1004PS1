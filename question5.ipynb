{
 "cells": [
  {
   "cell_type": "markdown",
   "id": "bc1e4072",
   "metadata": {},
   "source": [
    "# Question 5 C#\n",
    "a. Write a function inside(x,y,x1,y1,x2,y2) that returns True or False \n",
    "depending on whether the point (x,y) lies in the rectangle with lower left \n",
    "corner (x1,y1) and upper right corner (x2,y2).\n",
    ">>> inside(1,1,0,0,2,3)\n",
    "True\n",
    ">>> inside(-1,-1,0,0,2,3)\n",
    "False\n",
    "b. Use function inside() from part a. to write an expression that tests whether \n",
    "the point (1,1) lies in both of the following rectangles: one with lower left \n",
    "corner (0.3, 0.5) and upper right corner (1.1, 0.7) and the other with lower \n",
    "left corner (0.5, 0.2) and upper right corner (1.1, 2)."
   ]
  },
  {
   "cell_type": "code",
   "execution_count": null,
   "id": "74bf6510",
   "metadata": {},
   "outputs": [],
   "source": [
    "static bool inside(double x1, double y1, double x2, double y2, double x, double y)\n",
    "{\n",
    "if (x > x1 && x < x2 && y > y1 && y < y2)\n",
    "return true;\n",
    "return false;\n",
    "}\n",
    "Console.WriteLine(\"\\n***************************************************************\\n\");\n",
    "Console.WriteLine(\"Enter the Lower left corner points : \");\n",
    "double x1 = Convert.ToDouble(Console.ReadLine());\n",
    "double y1 = Convert.ToDouble(Console.ReadLine());\n",
    "Console.WriteLine(\"Enter the Upper right corner points : \");\n",
    "double x2 = Convert.ToDouble(Console.ReadLine());\n",
    "double y2 = Convert.ToDouble(Console.ReadLine());\n",
    "Console.WriteLine(\"Enter the point to check : \");\n",
    "double x = Convert.ToDouble(Console.ReadLine());\n",
    "double y = Convert.ToDouble(Console.ReadLine());\n",
    "Console.WriteLine($\"Does the point ({x},{y}), lie in the rectangle (({x1},{y1}), ({x2},{y2}))?\");\n",
    "Console.WriteLine(inside(x1, y1, x2, y2, x, y));\n",
    "Console.WriteLine(\"\\n***********************************\");\n",
    "Console.WriteLine(\"Enter the Lower left corner points of first rectangle : \");\n",
    "double a1 = Convert.ToDouble(Console.ReadLine());\n",
    "double b1 = Convert.ToDouble(Console.ReadLine());\n",
    "Console.WriteLine(\"Enter the Upper right corner points of first rectangle : \");\n",
    "double a2 = Convert.ToDouble(Console.ReadLine());\n",
    "double b2 = Convert.ToDouble(Console.ReadLine());\n",
    "Console.WriteLine(\"Enter the Lower left corner points of second rectangle : \");\n",
    "double a3 = Convert.ToDouble(Console.ReadLine());\n",
    "double b3 = Convert.ToDouble(Console.ReadLine());\n",
    "Console.WriteLine(\"Enter the Upper right corner points of second rectangle : \");\n",
    "double a4 = Convert.ToDouble(Console.ReadLine());\n",
    "double b4 = Convert.ToDouble(Console.ReadLine());//given point\n",
    "Console.WriteLine(\"Enter the point to check : \");\n",
    "double a = Convert.ToDouble(Console.ReadLine());\n",
    "double b = Convert.ToDouble(Console.ReadLine());//function call\n",
    "bool ans1 = inside(a1, b1, a2, b2, a, b);\n",
    "bool ans2 = inside(a3, b3, a4, b4, a, b);if (ans1 == ans2)\n",
    "{\n",
    "Console.WriteLine($\"the point ({a},{b}), lies in the both rectangles (({a1},{b1}), ({a2},{b2})) and (({a3},{b3}),({a4},{b4}))\");\n",
    "}\n",
    "else\n",
    "{\n",
    "Console.WriteLine($\"the point ({a},{b}), does not lie in the both rectangles (({a1},{b1}), ({a2},{b2})) and (({a3},{b3}),({a4},{b4}))\");\n",
    "}\n",
    "\n"
   ]
  }
 ],
 "metadata": {
  "kernelspec": {
   "display_name": ".NET (C#)",
   "language": "C#",
   "name": ".net-csharp"
  },
  "language_info": {
   "file_extension": ".cs",
   "mimetype": "text/x-csharp",
   "name": "C#",
   "pygments_lexer": "csharp",
   "version": "8.0"
  }
 },
 "nbformat": 4,
 "nbformat_minor": 5
}
