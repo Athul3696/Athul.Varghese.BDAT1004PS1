{
 "cells": [
  {
   "cell_type": "markdown",
   "id": "132fbaab",
   "metadata": {},
   "source": [
    "# Question 7 Python#\n",
    "File bloodtype1.txt records blood-types of patients (A, B, AB, O or OO) at a clinic. \n",
    "Write a function bldcount() that reads the file with name name and reports (i.e., \n",
    "prints) how many patients there are in each bloodtype.\n",
    ">>> bldcount('bloodtype.txt')\n",
    "There are 10 patients of blood type A.\n",
    "There is one patient of blood type B.\n",
    "There are 10 patients of blood type AB.\n",
    "There are 12 patients of blood type O.\n",
    "There are no patients of blood type OO."
   ]
  },
  {
   "cell_type": "code",
   "execution_count": 4,
   "id": "6a3a0371",
   "metadata": {},
   "outputs": [
    {
     "name": "stdout",
     "output_type": "stream",
     "text": [
      "Enter path of the file : D:\\georgian\\data programming\\bloodtype1.txt\n",
      "\n",
      "\n",
      "There are  15 patients of blood type A .\n",
      "one patient of blood type B .\n",
      "There are  13 patients of blood type AB .\n",
      "There are  15 patients of blood type O .\n",
      "no patients of blood type OO .\n"
     ]
    }
   ],
   "source": [
    "Path = input(\"Enter path of the file : \")\n",
    "def bldcount(Path):\n",
    "    file = open(Path,'r')\n",
    "    content = file.read()\n",
    "    file.close()\n",
    "    content = content.split()\n",
    "    bloodtype = ['A','B','AB','O','OO']\n",
    "    for i in bloodtype:\n",
    "        if content.count(i)==0:\n",
    "            print(\"no patients of blood type\",i,'.')\n",
    "        elif content.count(i)==1:\n",
    "            print(\"one patient of blood type\",i,'.')\n",
    "        else:\n",
    "            print(\"There are \",content.count(i),\"patients of blood type\",i,'.')\n",
    "print(\"\\n\")\n",
    "bldcount(Path)"
   ]
  },
  {
   "cell_type": "code",
   "execution_count": null,
   "id": "2c2cd1dc",
   "metadata": {},
   "outputs": [],
   "source": []
  }
 ],
 "metadata": {
  "kernelspec": {
   "display_name": "Python 3 (ipykernel)",
   "language": "python",
   "name": "python3"
  },
  "language_info": {
   "codemirror_mode": {
    "name": "ipython",
    "version": 3
   },
   "file_extension": ".py",
   "mimetype": "text/x-python",
   "name": "python",
   "nbconvert_exporter": "python",
   "pygments_lexer": "ipython3",
   "version": "3.9.7"
  }
 },
 "nbformat": 4,
 "nbformat_minor": 5
}
