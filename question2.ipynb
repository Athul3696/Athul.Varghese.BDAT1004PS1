{
 "cells": [
  {
   "cell_type": "markdown",
   "id": "e8002a2b",
   "metadata": {},
   "source": [
    "# Question 2 C#\n",
    "Write (and evaluate) C# expressions that answer these questions:\n",
    "a. How many letters are there in 'Supercalifragilisticexpialidocious'?\n",
    "b. Does 'Supercalifragilisticexpialidocious' contain 'ice' as a substring?\n",
    "c. Which of the following words is the longest: \n",
    "Supercalifragilisticexpialidocious, Honorificabilitudinitatibus, or \n",
    "Bababadalgharaghtakamminarronnkonn? \n",
    "d. Which composer comes first in the dictionary: 'Berlioz', 'Borodin', 'Brian', \n",
    "'Bartok', 'Bellini', 'Buxtehude', 'Bernstein'. Which one comes last?\n",
    "\n"
   ]
  },
  {
   "cell_type": "code",
   "execution_count": 10,
   "id": "e0ba18fc",
   "metadata": {},
   "outputs": [
    {
     "name": "stdout",
     "output_type": "stream",
     "text": [
      "Length of Supercalifragilisticexpialidocious = 34\r\n"
     ]
    }
   ],
   "source": [
    "String string1 = \"Supercalifragilisticexpialidocious\";\n",
    "int count = string1.Length;\n",
    "Console.WriteLine($\"Length of {string1} = {count}\");"
   ]
  },
  {
   "cell_type": "code",
   "execution_count": 11,
   "id": "aee1e896",
   "metadata": {},
   "outputs": [
    {
     "name": "stdout",
     "output_type": "stream",
     "text": [
      "The string contains the word ice\r\n"
     ]
    }
   ],
   "source": [
    "if (string1.Contains(\"ice\") == true)\n",
    "{\n",
    "Console.WriteLine(\"The string contains the word ice\");\n",
    "}\n",
    "else\n",
    "{\n",
    "Console.WriteLine(\"The string doesn't contin the word ice in it\");\n",
    "}"
   ]
  },
  {
   "cell_type": "code",
   "execution_count": 1,
   "id": "1d88d3e2",
   "metadata": {},
   "outputs": [
    {
     "ename": "Unhandled Exception",
     "evalue": "(2,54): error CS1002: ; expected",
     "output_type": "error",
     "traceback": [
      "(2,54): error CS1002: ; expected"
     ]
    }
   ],
   "source": [
    "Console.WriteLine(\"Enter three words to compare\");\n",
    "string[] array1 = new string[3];\n",
    "int mylength = 0;\n",
    "string result = \"\";\n",
    "\n",
    "for (int i = 0; i < 3; i++)\n",
    "{\n",
    "array1[i] = Console.ReadLine();\n",
    "\n",
    "}\n",
    "\n",
    "for (int j = 0; j < 3; j++)\n",
    "{\n",
    "if (array1[j].Length > mylength)\n",
    "{\n",
    "mylength = array1[j].Length;\n",
    "}\n",
    "}\n",
    "for (int i = 0; i < 3; i++)\n",
    "{\n",
    "if (array1[i].Length == mylength)\n",
    "{\n",
    "result += array1[i];\n",
    "result += \" \";\n",
    "}\n",
    "}\n",
    "if (result.Length == (mylength + 1))\n",
    "{\n",
    "Console.WriteLine(\"Longest word is :\" + result);\n",
    "}\n",
    "else\n",
    "{\n",
    "Console.WriteLine(\"The longest words are:\" + result);\n",
    "}\n"
   ]
  },
  {
   "cell_type": "code",
   "execution_count": null,
   "id": "342a121d",
   "metadata": {},
   "outputs": [],
   "source": [
    "Console.WriteLine(\"Enter 7 words to sort: \");\n",
    "string[] ray1 = new string[7];\n",
    "for (int i = 0; i < 7; i++)\n",
    "{\n",
    "ray1[i] = Console.ReadLine();\n",
    "\n",
    "}\n",
    "Array.Sort(ray1);\n",
    "Console.WriteLine(\"The words in alphabetical order is: \");\n",
    "for (int i = 0; i < 7; i++)\n",
    "{\n",
    "Console.WriteLine(ray1[i]);\n",
    "}"
   ]
  }
 ],
 "metadata": {
  "kernelspec": {
   "display_name": ".NET (C#)",
   "language": "C#",
   "name": ".net-csharp"
  },
  "language_info": {
   "file_extension": ".cs",
   "mimetype": "text/x-csharp",
   "name": "C#",
   "pygments_lexer": "csharp",
   "version": "8.0"
  }
 },
 "nbformat": 4,
 "nbformat_minor": 5
}
